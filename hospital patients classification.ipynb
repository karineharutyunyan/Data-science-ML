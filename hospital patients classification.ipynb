{
  "nbformat": 4,
  "nbformat_minor": 0,
  "metadata": {
    "colab": {
      "name": "Untitled1.ipynb",
      "provenance": []
    },
    "kernelspec": {
      "name": "python3",
      "display_name": "Python 3"
    },
    "language_info": {
      "name": "python"
    }
  },
  "cells": [
    {
      "cell_type": "markdown",
      "source": [
        "The dataset contains the patient records collected from a hospital. The \"Survived_1_year\" column is a target variable."
      ],
      "metadata": {
        "id": "sLAw8BEJVe28"
      }
    },
    {
      "cell_type": "code",
      "source": [
        "import pandas as pd\n",
        "import numpy as np\n",
        "\n",
        "data_train = pd.read_csv('hospital_train.csv')"
      ],
      "metadata": {
        "id": "F_0MUjFfVgUk"
      },
      "execution_count": 1,
      "outputs": []
    },
    {
      "cell_type": "code",
      "source": [
        "print(data_train.info())\n",
        "data_train.head()"
      ],
      "metadata": {
        "colab": {
          "base_uri": "https://localhost:8080/",
          "height": 721
        },
        "id": "9xR5cd2IWQwm",
        "outputId": "843c6491-53f5-4797-82cb-f3ab972328de"
      },
      "execution_count": 2,
      "outputs": [
        {
          "output_type": "stream",
          "name": "stdout",
          "text": [
            "<class 'pandas.core.frame.DataFrame'>\n",
            "RangeIndex: 22571 entries, 0 to 22570\n",
            "Data columns (total 18 columns):\n",
            " #   Column                     Non-Null Count  Dtype  \n",
            "---  ------                     --------------  -----  \n",
            " 0   ID_Patient_Care_Situation  22571 non-null  int64  \n",
            " 1   Diagnosed_Condition        22571 non-null  int64  \n",
            " 2   Patient_ID                 22571 non-null  int64  \n",
            " 3   Treated_with_drugs         22563 non-null  object \n",
            " 4   Patient_Age                22571 non-null  int64  \n",
            " 5   Patient_Body_Mass_Index    22571 non-null  float64\n",
            " 6   Patient_Smoker             22571 non-null  object \n",
            " 7   Patient_Rural_Urban        22571 non-null  object \n",
            " 8   Patient_mental_condition   22571 non-null  object \n",
            " 9   A                          21355 non-null  float64\n",
            " 10  B                          21355 non-null  float64\n",
            " 11  C                          21355 non-null  float64\n",
            " 12  D                          21355 non-null  float64\n",
            " 13  E                          21355 non-null  float64\n",
            " 14  F                          21355 non-null  float64\n",
            " 15  Z                          21355 non-null  float64\n",
            " 16  Number_of_prev_cond        21355 non-null  float64\n",
            " 17  Survived_1_year            22571 non-null  int64  \n",
            "dtypes: float64(9), int64(5), object(4)\n",
            "memory usage: 3.1+ MB\n",
            "None\n"
          ]
        },
        {
          "output_type": "execute_result",
          "data": {
            "text/plain": [
              "   ID_Patient_Care_Situation  Diagnosed_Condition  Patient_ID  \\\n",
              "0                      26082                   19        3525   \n",
              "1                       3935                    2       11357   \n",
              "2                      25150                   45       10831   \n",
              "3                       6843                   16        3726   \n",
              "4                      30965                   30        3903   \n",
              "\n",
              "  Treated_with_drugs  Patient_Age  Patient_Body_Mass_Index Patient_Smoker  \\\n",
              "0            DX3 DX4           49                18.996774            YES   \n",
              "1            dx1 dx4           32                18.807999            YES   \n",
              "2               DX6            43                26.737058            NO    \n",
              "3                dx6            9                21.950668             NO   \n",
              "4            DX3 DX4           44                20.591655            YES   \n",
              "\n",
              "  Patient_Rural_Urban Patient_mental_condition    A    B    C    D    E    F  \\\n",
              "0               RURAL                   Stable  0.0  0.0  1.0  0.0  1.0  0.0   \n",
              "1               RURAL                   Stable  1.0  0.0  0.0  0.0  1.0  0.0   \n",
              "2               URBAN                   Stable  1.0  0.0  0.0  0.0  0.0  0.0   \n",
              "3               RURAL                   Stable  1.0  0.0  1.0  0.0  1.0  0.0   \n",
              "4               RURAL                   Stable  1.0  0.0  1.0  0.0  0.0  0.0   \n",
              "\n",
              "     Z  Number_of_prev_cond  Survived_1_year  \n",
              "0  0.0                  2.0                0  \n",
              "1  0.0                  2.0                0  \n",
              "2  0.0                  1.0                0  \n",
              "3  0.0                  3.0                1  \n",
              "4  0.0                  2.0                1  "
            ],
            "text/html": [
              "\n",
              "  <div id=\"df-aa51c7c1-8555-4213-90b6-a8ae2ec034ce\">\n",
              "    <div class=\"colab-df-container\">\n",
              "      <div>\n",
              "<style scoped>\n",
              "    .dataframe tbody tr th:only-of-type {\n",
              "        vertical-align: middle;\n",
              "    }\n",
              "\n",
              "    .dataframe tbody tr th {\n",
              "        vertical-align: top;\n",
              "    }\n",
              "\n",
              "    .dataframe thead th {\n",
              "        text-align: right;\n",
              "    }\n",
              "</style>\n",
              "<table border=\"1\" class=\"dataframe\">\n",
              "  <thead>\n",
              "    <tr style=\"text-align: right;\">\n",
              "      <th></th>\n",
              "      <th>ID_Patient_Care_Situation</th>\n",
              "      <th>Diagnosed_Condition</th>\n",
              "      <th>Patient_ID</th>\n",
              "      <th>Treated_with_drugs</th>\n",
              "      <th>Patient_Age</th>\n",
              "      <th>Patient_Body_Mass_Index</th>\n",
              "      <th>Patient_Smoker</th>\n",
              "      <th>Patient_Rural_Urban</th>\n",
              "      <th>Patient_mental_condition</th>\n",
              "      <th>A</th>\n",
              "      <th>B</th>\n",
              "      <th>C</th>\n",
              "      <th>D</th>\n",
              "      <th>E</th>\n",
              "      <th>F</th>\n",
              "      <th>Z</th>\n",
              "      <th>Number_of_prev_cond</th>\n",
              "      <th>Survived_1_year</th>\n",
              "    </tr>\n",
              "  </thead>\n",
              "  <tbody>\n",
              "    <tr>\n",
              "      <th>0</th>\n",
              "      <td>26082</td>\n",
              "      <td>19</td>\n",
              "      <td>3525</td>\n",
              "      <td>DX3 DX4</td>\n",
              "      <td>49</td>\n",
              "      <td>18.996774</td>\n",
              "      <td>YES</td>\n",
              "      <td>RURAL</td>\n",
              "      <td>Stable</td>\n",
              "      <td>0.0</td>\n",
              "      <td>0.0</td>\n",
              "      <td>1.0</td>\n",
              "      <td>0.0</td>\n",
              "      <td>1.0</td>\n",
              "      <td>0.0</td>\n",
              "      <td>0.0</td>\n",
              "      <td>2.0</td>\n",
              "      <td>0</td>\n",
              "    </tr>\n",
              "    <tr>\n",
              "      <th>1</th>\n",
              "      <td>3935</td>\n",
              "      <td>2</td>\n",
              "      <td>11357</td>\n",
              "      <td>dx1 dx4</td>\n",
              "      <td>32</td>\n",
              "      <td>18.807999</td>\n",
              "      <td>YES</td>\n",
              "      <td>RURAL</td>\n",
              "      <td>Stable</td>\n",
              "      <td>1.0</td>\n",
              "      <td>0.0</td>\n",
              "      <td>0.0</td>\n",
              "      <td>0.0</td>\n",
              "      <td>1.0</td>\n",
              "      <td>0.0</td>\n",
              "      <td>0.0</td>\n",
              "      <td>2.0</td>\n",
              "      <td>0</td>\n",
              "    </tr>\n",
              "    <tr>\n",
              "      <th>2</th>\n",
              "      <td>25150</td>\n",
              "      <td>45</td>\n",
              "      <td>10831</td>\n",
              "      <td>DX6</td>\n",
              "      <td>43</td>\n",
              "      <td>26.737058</td>\n",
              "      <td>NO</td>\n",
              "      <td>URBAN</td>\n",
              "      <td>Stable</td>\n",
              "      <td>1.0</td>\n",
              "      <td>0.0</td>\n",
              "      <td>0.0</td>\n",
              "      <td>0.0</td>\n",
              "      <td>0.0</td>\n",
              "      <td>0.0</td>\n",
              "      <td>0.0</td>\n",
              "      <td>1.0</td>\n",
              "      <td>0</td>\n",
              "    </tr>\n",
              "    <tr>\n",
              "      <th>3</th>\n",
              "      <td>6843</td>\n",
              "      <td>16</td>\n",
              "      <td>3726</td>\n",
              "      <td>dx6</td>\n",
              "      <td>9</td>\n",
              "      <td>21.950668</td>\n",
              "      <td>NO</td>\n",
              "      <td>RURAL</td>\n",
              "      <td>Stable</td>\n",
              "      <td>1.0</td>\n",
              "      <td>0.0</td>\n",
              "      <td>1.0</td>\n",
              "      <td>0.0</td>\n",
              "      <td>1.0</td>\n",
              "      <td>0.0</td>\n",
              "      <td>0.0</td>\n",
              "      <td>3.0</td>\n",
              "      <td>1</td>\n",
              "    </tr>\n",
              "    <tr>\n",
              "      <th>4</th>\n",
              "      <td>30965</td>\n",
              "      <td>30</td>\n",
              "      <td>3903</td>\n",
              "      <td>DX3 DX4</td>\n",
              "      <td>44</td>\n",
              "      <td>20.591655</td>\n",
              "      <td>YES</td>\n",
              "      <td>RURAL</td>\n",
              "      <td>Stable</td>\n",
              "      <td>1.0</td>\n",
              "      <td>0.0</td>\n",
              "      <td>1.0</td>\n",
              "      <td>0.0</td>\n",
              "      <td>0.0</td>\n",
              "      <td>0.0</td>\n",
              "      <td>0.0</td>\n",
              "      <td>2.0</td>\n",
              "      <td>1</td>\n",
              "    </tr>\n",
              "  </tbody>\n",
              "</table>\n",
              "</div>\n",
              "      <button class=\"colab-df-convert\" onclick=\"convertToInteractive('df-aa51c7c1-8555-4213-90b6-a8ae2ec034ce')\"\n",
              "              title=\"Convert this dataframe to an interactive table.\"\n",
              "              style=\"display:none;\">\n",
              "        \n",
              "  <svg xmlns=\"http://www.w3.org/2000/svg\" height=\"24px\"viewBox=\"0 0 24 24\"\n",
              "       width=\"24px\">\n",
              "    <path d=\"M0 0h24v24H0V0z\" fill=\"none\"/>\n",
              "    <path d=\"M18.56 5.44l.94 2.06.94-2.06 2.06-.94-2.06-.94-.94-2.06-.94 2.06-2.06.94zm-11 1L8.5 8.5l.94-2.06 2.06-.94-2.06-.94L8.5 2.5l-.94 2.06-2.06.94zm10 10l.94 2.06.94-2.06 2.06-.94-2.06-.94-.94-2.06-.94 2.06-2.06.94z\"/><path d=\"M17.41 7.96l-1.37-1.37c-.4-.4-.92-.59-1.43-.59-.52 0-1.04.2-1.43.59L10.3 9.45l-7.72 7.72c-.78.78-.78 2.05 0 2.83L4 21.41c.39.39.9.59 1.41.59.51 0 1.02-.2 1.41-.59l7.78-7.78 2.81-2.81c.8-.78.8-2.07 0-2.86zM5.41 20L4 18.59l7.72-7.72 1.47 1.35L5.41 20z\"/>\n",
              "  </svg>\n",
              "      </button>\n",
              "      \n",
              "  <style>\n",
              "    .colab-df-container {\n",
              "      display:flex;\n",
              "      flex-wrap:wrap;\n",
              "      gap: 12px;\n",
              "    }\n",
              "\n",
              "    .colab-df-convert {\n",
              "      background-color: #E8F0FE;\n",
              "      border: none;\n",
              "      border-radius: 50%;\n",
              "      cursor: pointer;\n",
              "      display: none;\n",
              "      fill: #1967D2;\n",
              "      height: 32px;\n",
              "      padding: 0 0 0 0;\n",
              "      width: 32px;\n",
              "    }\n",
              "\n",
              "    .colab-df-convert:hover {\n",
              "      background-color: #E2EBFA;\n",
              "      box-shadow: 0px 1px 2px rgba(60, 64, 67, 0.3), 0px 1px 3px 1px rgba(60, 64, 67, 0.15);\n",
              "      fill: #174EA6;\n",
              "    }\n",
              "\n",
              "    [theme=dark] .colab-df-convert {\n",
              "      background-color: #3B4455;\n",
              "      fill: #D2E3FC;\n",
              "    }\n",
              "\n",
              "    [theme=dark] .colab-df-convert:hover {\n",
              "      background-color: #434B5C;\n",
              "      box-shadow: 0px 1px 3px 1px rgba(0, 0, 0, 0.15);\n",
              "      filter: drop-shadow(0px 1px 2px rgba(0, 0, 0, 0.3));\n",
              "      fill: #FFFFFF;\n",
              "    }\n",
              "  </style>\n",
              "\n",
              "      <script>\n",
              "        const buttonEl =\n",
              "          document.querySelector('#df-aa51c7c1-8555-4213-90b6-a8ae2ec034ce button.colab-df-convert');\n",
              "        buttonEl.style.display =\n",
              "          google.colab.kernel.accessAllowed ? 'block' : 'none';\n",
              "\n",
              "        async function convertToInteractive(key) {\n",
              "          const element = document.querySelector('#df-aa51c7c1-8555-4213-90b6-a8ae2ec034ce');\n",
              "          const dataTable =\n",
              "            await google.colab.kernel.invokeFunction('convertToInteractive',\n",
              "                                                     [key], {});\n",
              "          if (!dataTable) return;\n",
              "\n",
              "          const docLinkHtml = 'Like what you see? Visit the ' +\n",
              "            '<a target=\"_blank\" href=https://colab.research.google.com/notebooks/data_table.ipynb>data table notebook</a>'\n",
              "            + ' to learn more about interactive tables.';\n",
              "          element.innerHTML = '';\n",
              "          dataTable['output_type'] = 'display_data';\n",
              "          await google.colab.output.renderOutput(dataTable, element);\n",
              "          const docLink = document.createElement('div');\n",
              "          docLink.innerHTML = docLinkHtml;\n",
              "          element.appendChild(docLink);\n",
              "        }\n",
              "      </script>\n",
              "    </div>\n",
              "  </div>\n",
              "  "
            ]
          },
          "metadata": {},
          "execution_count": 2
        }
      ]
    },
    {
      "cell_type": "code",
      "source": [
        "print(data_train[\"Treated_with_drugs\"].unique())\n",
        "print(data_train[\"Patient_Smoker\"].unique())\n",
        "print(data_train[\"Patient_Rural_Urban\"].unique())\n",
        "print(len(data_train[\"ID_Patient_Care_Situation\"]))\n",
        "print(len(data_train[\"ID_Patient_Care_Situation\"].unique()))\n",
        "print(data_train[\"Patient_mental_condition\"].unique())"
      ],
      "metadata": {
        "colab": {
          "base_uri": "https://localhost:8080/"
        },
        "id": "cSj-tHGFWWwQ",
        "outputId": "9b15d83f-3230-44e1-de73-e68e2353d6fa"
      },
      "execution_count": 3,
      "outputs": [
        {
          "output_type": "stream",
          "name": "stdout",
          "text": [
            "['DX3 DX4' 'dx1 dx4' 'DX6 ' 'dx6' 'DX2' 'Dx1 dx2 ' 'dx1' 'DX1' 'DX6'\n",
            " 'DX5 ' 'dx1 ' 'Dx2 ' 'Dx6' 'DX2 DX4' 'Dx4' 'DX3 DX5' 'DX1 DX3' 'DX3'\n",
            " 'dx6 ' 'DX5' 'DX2 ' 'Dx2 dx3' 'DX4' 'DX1 DX4' 'dx1 dx3 ' 'DX1 DX2'\n",
            " 'DX3 DX4 ' 'Dx2 dx5' 'DX2 DX5' 'DX4 DX5' 'Dx6 ' 'DX1 DX2 DX3' 'dx3 dx5'\n",
            " 'DX1 ' 'DX3 ' 'DX1 DX2 DX5' 'DX1 DX4 ' 'Dx1 dx3' 'Dx2' 'dx2 dx5'\n",
            " 'DX1 DX3 ' 'Dx3 ' 'dx1 dx3' 'Dx3' 'DX4 ' 'DX2 DX4 DX5' 'dx2'\n",
            " 'DX2 DX3 DX4 ' 'DX1 DX3 DX5 ' 'dx5' 'DX3 DX4 DX5' 'dx4 '\n",
            " 'DX1 DX2 DX3 DX5' 'dx4' 'dx2 ' 'dx3' 'Dx5' 'Dx1' 'dx2 dx3' 'dx4 dx5'\n",
            " 'DX2 DX3' 'Dx1 dx5 ' 'Dx4 ' 'DX1 DX5 ' 'DX2 DX4 ' 'Dx2 dx4 ' 'dx5 '\n",
            " 'DX3 DX4 DX5 ' 'DX1 DX2 DX4 ' 'DX2 DX3 ' 'dx3 dx4' 'DX1 DX2 ' 'Dx3 dx5 '\n",
            " 'dx2 dx3 ' 'DX2 DX3 DX4' 'dx1 dx3 dx5' 'DX2 DX5 ' 'dx3 ' 'DX2 DX4 DX5 '\n",
            " 'DX1 DX5' 'Dx1 dx2 dx5 ' 'DX4 DX5 ' 'DX1 DX3 DX4 ' 'Dx3 dx4' 'dx2 dx4'\n",
            " 'dx1 dx4 ' 'Dx1 dx4' 'DX3 DX5 ' 'DX1 DX3 DX4' 'DX1 DX4 DX5 '\n",
            " 'DX1 DX2 DX4 DX5' 'DX1 DX2 DX4' 'Dx3 dx5' 'DX2 DX3 DX5' 'Dx1 '\n",
            " 'dx1 dx2 dx4' 'dx3 dx4 dx5' 'dx2 dx4 ' 'dx1 dx2' 'Dx1 dx5' 'dx2 dx5 '\n",
            " 'Dx5 ' 'DX1 DX2 DX5 ' 'dx4 dx5 ' 'dx2 dx3 dx4' 'dx1 dx2 dx4 '\n",
            " 'dx1 dx3 dx4 ' 'Dx3 dx4 dx5' 'Dx1 dx3 dx4' 'DX1 DX4 DX5' 'dx1 dx5'\n",
            " 'Dx2 dx4' 'Dx4 dx5 ' 'Dx2 dx3 dx5 ' 'dx3 dx4 ' 'DX1 DX2 DX3 '\n",
            " 'DX1 DX3 DX5' 'Dx1 dx2 dx5' 'Dx1 dx3 ' 'Dx4 dx5' 'dx1 dx3 dx4 dx5'\n",
            " 'DX2 DX3 DX4 DX5' 'dx1 dx5 ' 'dx1 dx2 dx3' 'Dx2 dx3 dx5'\n",
            " 'DX1 DX2 DX3 DX4 ' 'dx2 dx4 dx5' 'Dx1 dx2' 'Dx1 dx2 dx4' 'dx2 dx3 dx5'\n",
            " 'Dx2 dx3 dx4' 'DX1 DX2 DX3 DX4 DX5' 'Dx3 dx4 dx5 ' 'Dx2 dx5 '\n",
            " 'dx2 dx4 dx5 ' 'dx2 dx3 dx4 dx5 ' 'dx1 dx2 dx5 ' 'Dx1 dx2 dx4 dx5 '\n",
            " 'Dx1 dx2 dx3' 'Dx1 dx4 dx5 ' 'Dx1 dx3 dx5' 'Dx2 dx3 dx4 dx5'\n",
            " 'Dx1 dx2 dx3 dx4 ' 'dx1 dx2 ' 'DX1 DX3 DX4 DX5 ' 'dx3 dx5 ' 'Dx2 dx4 dx5'\n",
            " 'Dx3 dx4 ' 'DX1 DX3 DX4 DX5' 'Dx1 dx2 dx3 ' 'DX1 DX2 DX3 DX4' nan\n",
            " 'dx2 dx3 dx5 ' 'dx1 dx2 dx4 dx5' 'Dx1 dx4 ' 'DX2 DX3 DX5 ' 'dx1 dx2 dx3 '\n",
            " 'dx1 dx4 dx5' 'DX2 DX3 DX4 DX5 ' 'dx1 dx2 dx5' 'dx3 dx4 dx5 '\n",
            " 'dx1 dx3 dx5 ' 'Dx2 dx3 ' 'dx1 dx3 dx4' 'Dx1 dx3 dx4 ' 'Dx2 dx3 dx4 '\n",
            " 'Dx1 dx2 dx3 dx5' 'dx1 dx2 dx3 dx4' 'Dx1 dx2 dx4 ' 'Dx1 dx2 dx3 dx4'\n",
            " 'dx2 dx3 dx4 ' 'dx1 dx4 dx5 ' 'DX1 DX2 DX3 DX4 DX5 ' 'DX1 DX2 DX4 DX5 '\n",
            " 'Dx1 dx2 dx4 dx5' 'Dx1 dx3 dx5 ' 'dx1 dx2 dx3 dx5' 'Dx1 dx3 dx4 dx5'\n",
            " 'dx1 dx2 dx3 dx5 ' 'Dx2 dx4 dx5 ' 'dx1 dx3 dx4 dx5 ' 'Dx1 dx4 dx5']\n",
            "['YES' 'NO ' 'NO' 'YES ' 'YESS' 'YESS ' 'CANNOT SAY' 'Cannot say'\n",
            " 'CANNOT SAY ' 'Cannot say ']\n",
            "['RURAL' 'URBAN']\n",
            "22571\n",
            "20974\n",
            "['Stable']\n"
          ]
        }
      ]
    },
    {
      "cell_type": "code",
      "source": [
        "cols_to_drop = [\"Patient_ID\", \"Patient_mental_condition\", \"Number_of_prev_cond\"]\n",
        "data_train = data_train.drop(columns=cols_to_drop, axis=1)"
      ],
      "metadata": {
        "id": "65giKcIHWm2_"
      },
      "execution_count": 4,
      "outputs": []
    },
    {
      "cell_type": "code",
      "source": [
        "data_train.isna().sum()"
      ],
      "metadata": {
        "colab": {
          "base_uri": "https://localhost:8080/"
        },
        "id": "16QOxRUhXMCF",
        "outputId": "70348c6b-f821-4ea1-8e4d-92ddcdf58dbb"
      },
      "execution_count": 5,
      "outputs": [
        {
          "output_type": "execute_result",
          "data": {
            "text/plain": [
              "ID_Patient_Care_Situation       0\n",
              "Diagnosed_Condition             0\n",
              "Treated_with_drugs              8\n",
              "Patient_Age                     0\n",
              "Patient_Body_Mass_Index         0\n",
              "Patient_Smoker                  0\n",
              "Patient_Rural_Urban             0\n",
              "A                            1216\n",
              "B                            1216\n",
              "C                            1216\n",
              "D                            1216\n",
              "E                            1216\n",
              "F                            1216\n",
              "Z                            1216\n",
              "Survived_1_year                 0\n",
              "dtype: int64"
            ]
          },
          "metadata": {},
          "execution_count": 5
        }
      ]
    },
    {
      "cell_type": "code",
      "source": [
        "data_train[\"Treated_with_drugs\"] = data_train[\"Treated_with_drugs\"].astype(str)\n",
        "data_train[\"Treated_with_drugs\"] = data_train[\"Treated_with_drugs\"].str.strip()\n",
        "data_train[\"Treated_with_drugs\"] = data_train[\"Treated_with_drugs\"].str.upper()\n",
        "\n",
        "data_train[\"Patient_Smoker\"] = data_train[\"Patient_Smoker\"].astype(str)\n",
        "data_train[\"Patient_Smoker\"] = data_train[\"Patient_Smoker\"].str.strip()\n",
        "data_train[\"Patient_Smoker\"] = data_train[\"Patient_Smoker\"].str.upper()\n",
        "data_train[\"Patient_Smoker\"] = data_train[\"Patient_Smoker\"].replace([\"YESS\"], \"YES\")"
      ],
      "metadata": {
        "id": "R-a7E3mnXPDm"
      },
      "execution_count": 6,
      "outputs": []
    },
    {
      "cell_type": "code",
      "source": [
        "print(data_train[\"Treated_with_drugs\"].unique())\n",
        "print(data_train[\"Patient_Smoker\"].unique())\n",
        "print(data_train[\"Patient_Rural_Urban\"].unique())"
      ],
      "metadata": {
        "colab": {
          "base_uri": "https://localhost:8080/"
        },
        "id": "b32_rUdMXqtP",
        "outputId": "c6d4f1d8-8b38-4b53-8533-52888fe75e33"
      },
      "execution_count": 7,
      "outputs": [
        {
          "output_type": "stream",
          "name": "stdout",
          "text": [
            "['DX3 DX4' 'DX1 DX4' 'DX6' 'DX2' 'DX1 DX2' 'DX1' 'DX5' 'DX2 DX4' 'DX4'\n",
            " 'DX3 DX5' 'DX1 DX3' 'DX3' 'DX2 DX3' 'DX2 DX5' 'DX4 DX5' 'DX1 DX2 DX3'\n",
            " 'DX1 DX2 DX5' 'DX2 DX4 DX5' 'DX2 DX3 DX4' 'DX1 DX3 DX5' 'DX3 DX4 DX5'\n",
            " 'DX1 DX2 DX3 DX5' 'DX1 DX5' 'DX1 DX2 DX4' 'DX1 DX3 DX4' 'DX1 DX4 DX5'\n",
            " 'DX1 DX2 DX4 DX5' 'DX2 DX3 DX5' 'DX1 DX3 DX4 DX5' 'DX2 DX3 DX4 DX5'\n",
            " 'DX1 DX2 DX3 DX4' 'DX1 DX2 DX3 DX4 DX5' 'NAN']\n",
            "['YES' 'NO' 'CANNOT SAY']\n",
            "['RURAL' 'URBAN']\n"
          ]
        }
      ]
    },
    {
      "cell_type": "code",
      "source": [
        "data_train = pd.get_dummies(data_train, columns=[\"Treated_with_drugs\", \"Patient_Smoker\", \"Patient_Rural_Urban\"])"
      ],
      "metadata": {
        "id": "J7daSUHfXujL"
      },
      "execution_count": 8,
      "outputs": []
    },
    {
      "cell_type": "code",
      "source": [
        "data_train.info()"
      ],
      "metadata": {
        "colab": {
          "base_uri": "https://localhost:8080/"
        },
        "id": "Jux3NM-uYUmj",
        "outputId": "dba1e71f-95a2-4921-d7b1-eae90c400b54"
      },
      "execution_count": 9,
      "outputs": [
        {
          "output_type": "stream",
          "name": "stdout",
          "text": [
            "<class 'pandas.core.frame.DataFrame'>\n",
            "RangeIndex: 22571 entries, 0 to 22570\n",
            "Data columns (total 50 columns):\n",
            " #   Column                                  Non-Null Count  Dtype  \n",
            "---  ------                                  --------------  -----  \n",
            " 0   ID_Patient_Care_Situation               22571 non-null  int64  \n",
            " 1   Diagnosed_Condition                     22571 non-null  int64  \n",
            " 2   Patient_Age                             22571 non-null  int64  \n",
            " 3   Patient_Body_Mass_Index                 22571 non-null  float64\n",
            " 4   A                                       21355 non-null  float64\n",
            " 5   B                                       21355 non-null  float64\n",
            " 6   C                                       21355 non-null  float64\n",
            " 7   D                                       21355 non-null  float64\n",
            " 8   E                                       21355 non-null  float64\n",
            " 9   F                                       21355 non-null  float64\n",
            " 10  Z                                       21355 non-null  float64\n",
            " 11  Survived_1_year                         22571 non-null  int64  \n",
            " 12  Treated_with_drugs_DX1                  22571 non-null  uint8  \n",
            " 13  Treated_with_drugs_DX1 DX2              22571 non-null  uint8  \n",
            " 14  Treated_with_drugs_DX1 DX2 DX3          22571 non-null  uint8  \n",
            " 15  Treated_with_drugs_DX1 DX2 DX3 DX4      22571 non-null  uint8  \n",
            " 16  Treated_with_drugs_DX1 DX2 DX3 DX4 DX5  22571 non-null  uint8  \n",
            " 17  Treated_with_drugs_DX1 DX2 DX3 DX5      22571 non-null  uint8  \n",
            " 18  Treated_with_drugs_DX1 DX2 DX4          22571 non-null  uint8  \n",
            " 19  Treated_with_drugs_DX1 DX2 DX4 DX5      22571 non-null  uint8  \n",
            " 20  Treated_with_drugs_DX1 DX2 DX5          22571 non-null  uint8  \n",
            " 21  Treated_with_drugs_DX1 DX3              22571 non-null  uint8  \n",
            " 22  Treated_with_drugs_DX1 DX3 DX4          22571 non-null  uint8  \n",
            " 23  Treated_with_drugs_DX1 DX3 DX4 DX5      22571 non-null  uint8  \n",
            " 24  Treated_with_drugs_DX1 DX3 DX5          22571 non-null  uint8  \n",
            " 25  Treated_with_drugs_DX1 DX4              22571 non-null  uint8  \n",
            " 26  Treated_with_drugs_DX1 DX4 DX5          22571 non-null  uint8  \n",
            " 27  Treated_with_drugs_DX1 DX5              22571 non-null  uint8  \n",
            " 28  Treated_with_drugs_DX2                  22571 non-null  uint8  \n",
            " 29  Treated_with_drugs_DX2 DX3              22571 non-null  uint8  \n",
            " 30  Treated_with_drugs_DX2 DX3 DX4          22571 non-null  uint8  \n",
            " 31  Treated_with_drugs_DX2 DX3 DX4 DX5      22571 non-null  uint8  \n",
            " 32  Treated_with_drugs_DX2 DX3 DX5          22571 non-null  uint8  \n",
            " 33  Treated_with_drugs_DX2 DX4              22571 non-null  uint8  \n",
            " 34  Treated_with_drugs_DX2 DX4 DX5          22571 non-null  uint8  \n",
            " 35  Treated_with_drugs_DX2 DX5              22571 non-null  uint8  \n",
            " 36  Treated_with_drugs_DX3                  22571 non-null  uint8  \n",
            " 37  Treated_with_drugs_DX3 DX4              22571 non-null  uint8  \n",
            " 38  Treated_with_drugs_DX3 DX4 DX5          22571 non-null  uint8  \n",
            " 39  Treated_with_drugs_DX3 DX5              22571 non-null  uint8  \n",
            " 40  Treated_with_drugs_DX4                  22571 non-null  uint8  \n",
            " 41  Treated_with_drugs_DX4 DX5              22571 non-null  uint8  \n",
            " 42  Treated_with_drugs_DX5                  22571 non-null  uint8  \n",
            " 43  Treated_with_drugs_DX6                  22571 non-null  uint8  \n",
            " 44  Treated_with_drugs_NAN                  22571 non-null  uint8  \n",
            " 45  Patient_Smoker_CANNOT SAY               22571 non-null  uint8  \n",
            " 46  Patient_Smoker_NO                       22571 non-null  uint8  \n",
            " 47  Patient_Smoker_YES                      22571 non-null  uint8  \n",
            " 48  Patient_Rural_Urban_RURAL               22571 non-null  uint8  \n",
            " 49  Patient_Rural_Urban_URBAN               22571 non-null  uint8  \n",
            "dtypes: float64(8), int64(4), uint8(38)\n",
            "memory usage: 2.9 MB\n"
          ]
        }
      ]
    },
    {
      "cell_type": "code",
      "source": [
        "col_fill_na = [\"A\", \"B\", \"C\", \"D\", \"E\", \"F\", \"Z\"]\n",
        "data_train[col_fill_na] = data_train[col_fill_na].fillna(data_train[col_fill_na].mode().iloc[0])\n",
        "data_train.isna().sum()"
      ],
      "metadata": {
        "colab": {
          "base_uri": "https://localhost:8080/"
        },
        "id": "oHJjEsL-YX6n",
        "outputId": "2937a4d6-4a52-4fda-81e4-32d0e8573c88"
      },
      "execution_count": 10,
      "outputs": [
        {
          "output_type": "execute_result",
          "data": {
            "text/plain": [
              "ID_Patient_Care_Situation                 0\n",
              "Diagnosed_Condition                       0\n",
              "Patient_Age                               0\n",
              "Patient_Body_Mass_Index                   0\n",
              "A                                         0\n",
              "B                                         0\n",
              "C                                         0\n",
              "D                                         0\n",
              "E                                         0\n",
              "F                                         0\n",
              "Z                                         0\n",
              "Survived_1_year                           0\n",
              "Treated_with_drugs_DX1                    0\n",
              "Treated_with_drugs_DX1 DX2                0\n",
              "Treated_with_drugs_DX1 DX2 DX3            0\n",
              "Treated_with_drugs_DX1 DX2 DX3 DX4        0\n",
              "Treated_with_drugs_DX1 DX2 DX3 DX4 DX5    0\n",
              "Treated_with_drugs_DX1 DX2 DX3 DX5        0\n",
              "Treated_with_drugs_DX1 DX2 DX4            0\n",
              "Treated_with_drugs_DX1 DX2 DX4 DX5        0\n",
              "Treated_with_drugs_DX1 DX2 DX5            0\n",
              "Treated_with_drugs_DX1 DX3                0\n",
              "Treated_with_drugs_DX1 DX3 DX4            0\n",
              "Treated_with_drugs_DX1 DX3 DX4 DX5        0\n",
              "Treated_with_drugs_DX1 DX3 DX5            0\n",
              "Treated_with_drugs_DX1 DX4                0\n",
              "Treated_with_drugs_DX1 DX4 DX5            0\n",
              "Treated_with_drugs_DX1 DX5                0\n",
              "Treated_with_drugs_DX2                    0\n",
              "Treated_with_drugs_DX2 DX3                0\n",
              "Treated_with_drugs_DX2 DX3 DX4            0\n",
              "Treated_with_drugs_DX2 DX3 DX4 DX5        0\n",
              "Treated_with_drugs_DX2 DX3 DX5            0\n",
              "Treated_with_drugs_DX2 DX4                0\n",
              "Treated_with_drugs_DX2 DX4 DX5            0\n",
              "Treated_with_drugs_DX2 DX5                0\n",
              "Treated_with_drugs_DX3                    0\n",
              "Treated_with_drugs_DX3 DX4                0\n",
              "Treated_with_drugs_DX3 DX4 DX5            0\n",
              "Treated_with_drugs_DX3 DX5                0\n",
              "Treated_with_drugs_DX4                    0\n",
              "Treated_with_drugs_DX4 DX5                0\n",
              "Treated_with_drugs_DX5                    0\n",
              "Treated_with_drugs_DX6                    0\n",
              "Treated_with_drugs_NAN                    0\n",
              "Patient_Smoker_CANNOT SAY                 0\n",
              "Patient_Smoker_NO                         0\n",
              "Patient_Smoker_YES                        0\n",
              "Patient_Rural_Urban_RURAL                 0\n",
              "Patient_Rural_Urban_URBAN                 0\n",
              "dtype: int64"
            ]
          },
          "metadata": {},
          "execution_count": 10
        }
      ]
    },
    {
      "cell_type": "code",
      "source": [
        "from sklearn.model_selection import train_test_split\n",
        "\n",
        "X = data_train.drop([\"Survived_1_year\"], axis=1)\n",
        "y = data_train[\"Survived_1_year\"]\n",
        "\n",
        "X_train, X_test, y_train, y_test = train_test_split(X, y, test_size=0.2, random_state=1)"
      ],
      "metadata": {
        "id": "okc3w-VGYoHh"
      },
      "execution_count": 11,
      "outputs": []
    },
    {
      "cell_type": "code",
      "source": [
        "from sklearn.metrics import accuracy_score, f1_score\n",
        "from sklearn.model_selection import cross_val_score, StratifiedKFold\n",
        "from sklearn.svm import SVC\n",
        "from sklearn.linear_model import LogisticRegression\n",
        "from sklearn.tree import DecisionTreeClassifier\n",
        "from sklearn.ensemble import RandomForestClassifier\n",
        "from sklearn.ensemble import AdaBoostClassifier\n",
        "from lightgbm import LGBMClassifier\n",
        "from xgboost import XGBClassifier"
      ],
      "metadata": {
        "id": "qEFDCNs6Y0oj"
      },
      "execution_count": 12,
      "outputs": []
    },
    {
      "cell_type": "code",
      "source": [
        "models = []\n",
        "models.append((\"Log_Reg\", LogisticRegression()))\n",
        "models.append((\"Dec_Tree\", DecisionTreeClassifier()))\n",
        "models.append((\"Ran_For\", RandomForestClassifier()))\n",
        "models.append((\"Ada_Boost\", AdaBoostClassifier()))\n",
        "models.append((\"SVM\", SVC()))\n",
        "models.append((\"LGBMC\", LGBMClassifier()))\n",
        "models.append((\"XGBC\", XGBClassifier()))\n",
        "results = []\n",
        "names = []\n",
        "for name, model in models:\n",
        "  kfold = StratifiedKFold(n_splits=10, random_state=1, shuffle=True)\n",
        "  cv_results = cross_val_score(model, X, y, scoring='accuracy', cv=kfold)\n",
        "  results.append(cv_results)\n",
        "  names.append(name)\n",
        "  msg = \"%s: %f (%f)\" % (name, cv_results.mean(), cv_results.std())\n",
        "  print(msg)"
      ],
      "metadata": {
        "colab": {
          "base_uri": "https://localhost:8080/"
        },
        "id": "C-pNk9OnY3CP",
        "outputId": "3731587e-133a-477d-ae05-51a7746bc482"
      },
      "execution_count": 13,
      "outputs": [
        {
          "output_type": "stream",
          "name": "stderr",
          "text": [
            "/usr/local/lib/python3.7/dist-packages/sklearn/linear_model/_logistic.py:818: ConvergenceWarning: lbfgs failed to converge (status=1):\n",
            "STOP: TOTAL NO. of ITERATIONS REACHED LIMIT.\n",
            "\n",
            "Increase the number of iterations (max_iter) or scale the data as shown in:\n",
            "    https://scikit-learn.org/stable/modules/preprocessing.html\n",
            "Please also refer to the documentation for alternative solver options:\n",
            "    https://scikit-learn.org/stable/modules/linear_model.html#logistic-regression\n",
            "  extra_warning_msg=_LOGISTIC_SOLVER_CONVERGENCE_MSG,\n",
            "/usr/local/lib/python3.7/dist-packages/sklearn/linear_model/_logistic.py:818: ConvergenceWarning: lbfgs failed to converge (status=1):\n",
            "STOP: TOTAL NO. of ITERATIONS REACHED LIMIT.\n",
            "\n",
            "Increase the number of iterations (max_iter) or scale the data as shown in:\n",
            "    https://scikit-learn.org/stable/modules/preprocessing.html\n",
            "Please also refer to the documentation for alternative solver options:\n",
            "    https://scikit-learn.org/stable/modules/linear_model.html#logistic-regression\n",
            "  extra_warning_msg=_LOGISTIC_SOLVER_CONVERGENCE_MSG,\n",
            "/usr/local/lib/python3.7/dist-packages/sklearn/linear_model/_logistic.py:818: ConvergenceWarning: lbfgs failed to converge (status=1):\n",
            "STOP: TOTAL NO. of ITERATIONS REACHED LIMIT.\n",
            "\n",
            "Increase the number of iterations (max_iter) or scale the data as shown in:\n",
            "    https://scikit-learn.org/stable/modules/preprocessing.html\n",
            "Please also refer to the documentation for alternative solver options:\n",
            "    https://scikit-learn.org/stable/modules/linear_model.html#logistic-regression\n",
            "  extra_warning_msg=_LOGISTIC_SOLVER_CONVERGENCE_MSG,\n"
          ]
        },
        {
          "output_type": "stream",
          "name": "stdout",
          "text": [
            "Log_Reg: 0.713925 (0.007076)\n",
            "Dec_Tree: 0.798325 (0.004301)\n",
            "Ran_For: 0.835852 (0.006821)\n",
            "Ada_Boost: 0.814496 (0.007380)\n",
            "SVM: 0.633866 (0.000202)\n",
            "LGBMC: 0.839352 (0.008423)\n",
            "XGBC: 0.824820 (0.007919)\n"
          ]
        }
      ]
    },
    {
      "cell_type": "code",
      "source": [
        "lgbmc = LGBMClassifier()\n",
        "lgbmc.fit(X_train, y_train)\n",
        "print(accuracy_score(lgbmc.predict(X_train), y_train))\n",
        "print(accuracy_score(lgbmc.predict(X_test), y_test))"
      ],
      "metadata": {
        "colab": {
          "base_uri": "https://localhost:8080/"
        },
        "id": "zY5elpBWboVR",
        "outputId": "be169c15-014c-4823-fb03-d99254e386b6"
      },
      "execution_count": 14,
      "outputs": [
        {
          "output_type": "stream",
          "name": "stdout",
          "text": [
            "0.8737815684536996\n",
            "0.8345514950166113\n"
          ]
        }
      ]
    },
    {
      "cell_type": "code",
      "source": [
        "from sklearn.model_selection import GridSearchCV\n",
        "\n",
        "parameter_grid = {'boosting_type': [\"gbdt\", \"dart\"],\n",
        "    'num_leaves': [31, 62],\n",
        "    'max_depth': [3, 5, 10, 15],\n",
        "    'n_estimators': [200, 300, 500]}\n",
        "grid = GridSearchCV(lgbmc, parameter_grid, refit = True)\n",
        "grid.fit(X_train, y_train)"
      ],
      "metadata": {
        "id": "oM7jHVFRnVB4"
      },
      "execution_count": null,
      "outputs": []
    },
    {
      "cell_type": "code",
      "source": [
        "lgbmc_grid = LGBMClassifier(grid.best_params_)\n",
        "lgbmc_grid.fit(X_train, y_train)\n",
        "print(accuracy_score(lgbmc_grid.predict(X_train), y_train))\n",
        "print(accuracy_score(lgbmc_grid.predict(X_test), y_test))"
      ],
      "metadata": {
        "id": "s8-tGUqUcQea"
      },
      "execution_count": null,
      "outputs": []
    }
  ]
}